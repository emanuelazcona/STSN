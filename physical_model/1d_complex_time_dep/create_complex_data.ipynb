{
 "cells": [
  {
   "cell_type": "markdown",
   "metadata": {},
   "source": [
    "# Create Complex Data for 1D-Static Case of Physical Model Using Real Data"
   ]
  },
  {
   "cell_type": "markdown",
   "metadata": {},
   "source": [
    "## Create List of File Names for Extraction from ../1d_real../data/ Folder"
   ]
  },
  {
   "cell_type": "code",
   "execution_count": 1,
   "metadata": {},
   "outputs": [],
   "source": [
    "scatter = [\"0\" + str(i) for i in range(1,4+1)] # range of scatter points for files\n",
    "T = [str(i) for i in range(10,60,10)]          # range of time units for files\n",
    "\n",
    "files = []\n",
    "for i, s in enumerate(scatter):\n",
    "    for t in T[i:]:\n",
    "        current = \"../1d_real_time_indep/data/scatter\" + s + \"_T\" + t + \"_mask_50_60_\"\n",
    "        files.append(current + \"in.csv\")\n",
    "        files.append(current + \"out.csv\")"
   ]
  },
  {
   "cell_type": "markdown",
   "metadata": {},
   "source": [
    "## Extract Dictionaries of I/O Pairs"
   ]
  },
  {
   "cell_type": "code",
   "execution_count": 2,
   "metadata": {},
   "outputs": [],
   "source": [
    "import numpy as np"
   ]
  },
  {
   "cell_type": "code",
   "execution_count": 3,
   "metadata": {},
   "outputs": [],
   "source": [
    "X_real = {} # create dictionary of inputs\n",
    "Y_real = {} # create dictionary of outputs\n",
    "\n",
    "for i,f in enumerate(files):\n",
    "    \n",
    "    if i % 2 is 0:\n",
    "        X_real[f] = np.genfromtxt(f, delimiter = \",\")\n",
    "    else:\n",
    "        Y_real[f] = np.genfromtxt(f, delimiter = \",\")\n",
    "    "
   ]
  },
  {
   "cell_type": "markdown",
   "metadata": {},
   "source": [
    "## Create Dictionaries of Complex Data (Imag. Comp. is Real Comp. Scaled by -2)"
   ]
  },
  {
   "cell_type": "code",
   "execution_count": 4,
   "metadata": {},
   "outputs": [],
   "source": [
    "X_complex = {}\n",
    "Y_complex = {}\n",
    "\n",
    "scale = -2\n",
    "\n",
    "for i,f in enumerate(files):\n",
    "    if i % 2 is 0:\n",
    "        real = X_real[f]\n",
    "        imag = real*scale\n",
    "        X_complex[f] = np.concatenate((real, imag), axis = 0)\n",
    "    else:\n",
    "        real = Y_real[f]\n",
    "        imag = real*scale\n",
    "        Y_complex[f] = np.concatenate((real,imag), axis = 0)"
   ]
  },
  {
   "cell_type": "markdown",
   "metadata": {},
   "source": [
    "## Create Folder & Files to Save Complex Data"
   ]
  },
  {
   "cell_type": "code",
   "execution_count": 5,
   "metadata": {},
   "outputs": [],
   "source": [
    "import os"
   ]
  },
  {
   "cell_type": "code",
   "execution_count": 6,
   "metadata": {},
   "outputs": [
    {
     "name": "stdout",
     "output_type": "stream",
     "text": [
      "data/scatter01_T10_mask_50_60_in.csv\n",
      "data/scatter01_T10_mask_50_60_out.csv\n",
      "data/scatter01_T20_mask_50_60_in.csv\n",
      "data/scatter01_T20_mask_50_60_out.csv\n",
      "data/scatter01_T30_mask_50_60_in.csv\n",
      "data/scatter01_T30_mask_50_60_out.csv\n",
      "data/scatter01_T40_mask_50_60_in.csv\n",
      "data/scatter01_T40_mask_50_60_out.csv\n",
      "data/scatter01_T50_mask_50_60_in.csv\n",
      "data/scatter01_T50_mask_50_60_out.csv\n",
      "data/scatter02_T20_mask_50_60_in.csv\n",
      "data/scatter02_T20_mask_50_60_out.csv\n",
      "data/scatter02_T30_mask_50_60_in.csv\n",
      "data/scatter02_T30_mask_50_60_out.csv\n",
      "data/scatter02_T40_mask_50_60_in.csv\n",
      "data/scatter02_T40_mask_50_60_out.csv\n",
      "data/scatter02_T50_mask_50_60_in.csv\n",
      "data/scatter02_T50_mask_50_60_out.csv\n",
      "data/scatter03_T30_mask_50_60_in.csv\n",
      "data/scatter03_T30_mask_50_60_out.csv\n",
      "data/scatter03_T40_mask_50_60_in.csv\n",
      "data/scatter03_T40_mask_50_60_out.csv\n",
      "data/scatter03_T50_mask_50_60_in.csv\n",
      "data/scatter03_T50_mask_50_60_out.csv\n",
      "data/scatter04_T40_mask_50_60_in.csv\n",
      "data/scatter04_T40_mask_50_60_out.csv\n",
      "data/scatter04_T50_mask_50_60_in.csv\n",
      "data/scatter04_T50_mask_50_60_out.csv\n"
     ]
    }
   ],
   "source": [
    "file_folder = \"data\"\n",
    "if not os.path.exists(file_folder):\n",
    "    os.makedirs(file_folder)\n",
    "    \n",
    "for f in files:\n",
    "    print(f[22:])"
   ]
  },
  {
   "cell_type": "code",
   "execution_count": 7,
   "metadata": {},
   "outputs": [],
   "source": [
    "for i,f in enumerate(files):\n",
    "    fileName = f[22:]\n",
    "    if i % 2 is 0:\n",
    "        np.savetxt(fileName , X_complex[f], delimiter = \",\")\n",
    "    else:\n",
    "        np.savetxt(fileName, Y_complex[f], delimiter = \",\")"
   ]
  },
  {
   "cell_type": "code",
   "execution_count": null,
   "metadata": {},
   "outputs": [],
   "source": []
  }
 ],
 "metadata": {
  "kernelspec": {
   "display_name": "Python 3",
   "language": "python",
   "name": "python3"
  },
  "language_info": {
   "codemirror_mode": {
    "name": "ipython",
    "version": 3
   },
   "file_extension": ".py",
   "mimetype": "text/x-python",
   "name": "python",
   "nbconvert_exporter": "python",
   "pygments_lexer": "ipython3",
   "version": "3.6.4"
  }
 },
 "nbformat": 4,
 "nbformat_minor": 2
}
