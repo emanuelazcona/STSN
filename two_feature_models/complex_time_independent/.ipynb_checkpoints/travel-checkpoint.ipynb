{
 "cells": [
  {
   "cell_type": "markdown",
   "metadata": {},
   "source": [
    "# STSN for Complex-valued Data & Real-valued Weights"
   ]
  },
  {
   "cell_type": "markdown",
   "metadata": {},
   "source": [
    "## Prelim. Library Import"
   ]
  },
  {
   "cell_type": "code",
   "execution_count": 1,
   "metadata": {},
   "outputs": [
    {
     "name": "stderr",
     "output_type": "stream",
     "text": [
      "/Users/emanuelazcona/py3env/lib/python3.6/site-packages/h5py/__init__.py:36: FutureWarning: Conversion of the second argument of issubdtype from `float` to `np.floating` is deprecated. In future, it will be treated as `np.float64 == np.dtype(float).type`.\n",
      "  from ._conv import register_converters as _register_converters\n"
     ]
    }
   ],
   "source": [
    "import numpy as np\n",
    "\n",
    "import os\n",
    "os.environ['TF_CPP_MIN_LOG_LEVEL']='2'\t\t\t\t# clears Tensorflow CPU for my mac Unix terminal\n",
    "os.system('cls' if os.name == 'nt' else 'clear')\t# clears the terminal window screen (clc equiv. to MATLAB)\n",
    "\n",
    "import pickle\n",
    "\n",
    "from weightGen import *\n",
    "from layers import transmitComplex\n",
    "from costMask import costMask\n",
    "\n",
    "np.random.seed(7)\t\t# seeding the random number generator to reproduce identical results\n",
    "tf.set_random_seed(7)\t# seed Tensorflow random numebr generator as well"
   ]
  },
  {
   "cell_type": "markdown",
   "metadata": {},
   "source": [
    "## Read in Data"
   ]
  },
  {
   "cell_type": "code",
   "execution_count": 2,
   "metadata": {},
   "outputs": [
    {
     "name": "stdout",
     "output_type": "stream",
     "text": [
      "Scatter-points: 01\n",
      "Time units: 10\n"
     ]
    }
   ],
   "source": [
    "userScatter = str( input(\"Scatter-points: \") )\n",
    "userTime = str( input(\"Time units: \") )\n",
    "\n",
    "layers = int(userTime)\t# number of scatter/prop. layers to navigate through\n",
    "expectedScatter = int(userScatter)\n",
    "\n",
    "if len( userScatter ) is 1:\n",
    "\tuserScatter = \"0\" + userScatter\n",
    "if len( userTime ) is 1:\n",
    "\tuserTime = \"0\" + userTime\n",
    "\n",
    "fileName = 'non_zero_data/scatter' + userScatter + '_T' + userTime + '_all_'\n",
    "X = np.transpose( np.genfromtxt(fileName + 'in.csv', delimiter = ',') )\n",
    "Y = np.transpose( np.genfromtxt(fileName + 'out.csv', delimiter = ',') )\n",
    "\n",
    "# X = np.ones((15,30)) # FOR TESTING\n",
    "# Y = np.random.random((15,30)) # FOR TESTING"
   ]
  },
  {
   "cell_type": "markdown",
   "metadata": {},
   "source": [
    "## Print User Input Info. & Extract Number of Samples/Features"
   ]
  },
  {
   "cell_type": "code",
   "execution_count": 3,
   "metadata": {},
   "outputs": [
    {
     "name": "stdout",
     "output_type": "stream",
     "text": [
      "This model contains:\n",
      "\t- 10 time units\n",
      "\t- 01 expected non-one weights\n",
      "\n"
     ]
    }
   ],
   "source": [
    "# Print Information\n",
    "print(\"This model contains:\")\n",
    "print(\"\\t- \" + userTime + \" time units\")\n",
    "print(\"\\t- \" + userScatter + \" expected scatter points\\n\")\n",
    "\n",
    "sampN, featN = X.shape\t# sampN: number of training samples, featN: features per sample "
   ]
  },
  {
   "cell_type": "code",
   "execution_count": null,
   "metadata": {},
   "outputs": [],
   "source": []
  }
 ],
 "metadata": {
  "kernelspec": {
   "display_name": "Python 3",
   "language": "python",
   "name": "python3"
  },
  "language_info": {
   "codemirror_mode": {
    "name": "ipython",
    "version": 3
   },
   "file_extension": ".py",
   "mimetype": "text/x-python",
   "name": "python",
   "nbconvert_exporter": "python",
   "pygments_lexer": "ipython3",
   "version": "3.6.4"
  }
 },
 "nbformat": 4,
 "nbformat_minor": 2
}
