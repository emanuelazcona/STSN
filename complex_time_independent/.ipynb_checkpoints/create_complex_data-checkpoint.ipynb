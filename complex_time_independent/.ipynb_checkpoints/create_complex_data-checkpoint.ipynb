{
 "cells": [
  {
   "cell_type": "markdown",
   "metadata": {},
   "source": [
    "# Walkthrough for Generating Complex Data for a Model w/ Real Weights\n",
    "\n",
    "Mathematically, a STSN model with real-valued weights and complex-valued data should train and converge towards the same weights, regardless of whether we use the real/complex part of the data. Therefore, the weights should converge to the same values if using both.\n",
    "\n",
    "To generate the complex data, we will just use the real-valued data and \"fill-in\" the complex gaps with:\n",
    "- first with zeroes\n",
    "- then with scaled-versions of their real counterparts"
   ]
  },
  {
   "cell_type": "markdown",
   "metadata": {},
   "source": [
    "## Open CSV for Real-Valued Data"
   ]
  },
  {
   "cell_type": "code",
   "execution_count": 1,
   "metadata": {},
   "outputs": [],
   "source": [
    "import numpy as np\n",
    "import os"
   ]
  },
  {
   "cell_type": "code",
   "execution_count": 2,
   "metadata": {},
   "outputs": [
    {
     "name": "stdout",
     "output_type": "stream",
     "text": [
      "Scatter-points: 01\n",
      "Time units: 10\n"
     ]
    }
   ],
   "source": [
    "#------------------------ Read in Data ------------------------#\n",
    "userScatter = str( input(\"Scatter-points: \") )\n",
    "userTime = str( input(\"Time units: \") )\n",
    "\n",
    "layers = int(userTime)\t# number of scatter/prop. layers to navigate through\n",
    "expectedScatter = int(userScatter)\n",
    "\n",
    "if len( userScatter ) is 1:\n",
    "\tuserScatter = \"0\" + userScatter\n",
    "if len( userTime ) is 1:\n",
    "\tuserTime = \"0\" + userTime\n",
    "\n",
    "fileName = '../normal/data/scatter' + userScatter + '_T' + userTime + '_all_'\n",
    "X = np.genfromtxt(fileName + 'in.csv', delimiter = ',').tolist()\n",
    "Y = np.genfromtxt(fileName + 'out.csv', delimiter = ',').tolist()"
   ]
  },
  {
   "cell_type": "markdown",
   "metadata": {},
   "source": [
    "## Create \"Zero\" Complex Data\n",
    "\n",
    "Now we will create complex data with zero-valued imaginary components."
   ]
  },
  {
   "cell_type": "code",
   "execution_count": 3,
   "metadata": {},
   "outputs": [],
   "source": [
    "X_complex = []\n",
    "Y_complex = []\n",
    "\n",
    "for x,y in zip(X,Y):\n",
    "    \n",
    "    X_complex.append(x)\n",
    "    X_complex.append([0 for _ in range(len(x))])\n",
    "    \n",
    "    Y_complex.append(y)\n",
    "    Y_complex.append([0 for _ in range(len(y))])\n",
    "\n",
    "X_complex = np.asarray(X_complex)\n",
    "Y_complex = np.asarray(Y_complex)"
   ]
  },
  {
   "cell_type": "markdown",
   "metadata": {},
   "source": [
    "### Save Zero Complex Data"
   ]
  },
  {
   "cell_type": "code",
   "execution_count": 4,
   "metadata": {},
   "outputs": [
    {
     "ename": "FileNotFoundError",
     "evalue": "[Errno 2] No such file or directory: 'zero_data/data/scatter01_T10_all_in.csv'",
     "output_type": "error",
     "traceback": [
      "\u001b[0;31m---------------------------------------------------------------------------\u001b[0m",
      "\u001b[0;31mFileNotFoundError\u001b[0m                         Traceback (most recent call last)",
      "\u001b[0;32m<ipython-input-4-3ac312a148c3>\u001b[0m in \u001b[0;36m<module>\u001b[0;34m()\u001b[0m\n\u001b[1;32m      6\u001b[0m     \u001b[0mos\u001b[0m\u001b[0;34m.\u001b[0m\u001b[0mmakedirs\u001b[0m\u001b[0;34m(\u001b[0m\u001b[0mfolder\u001b[0m\u001b[0;34m)\u001b[0m\u001b[0;34m\u001b[0m\u001b[0m\n\u001b[1;32m      7\u001b[0m \u001b[0;34m\u001b[0m\u001b[0m\n\u001b[0;32m----> 8\u001b[0;31m \u001b[0mnp\u001b[0m\u001b[0;34m.\u001b[0m\u001b[0msavetxt\u001b[0m\u001b[0;34m(\u001b[0m\u001b[0mfolder\u001b[0m \u001b[0;34m+\u001b[0m \u001b[0;34m'/'\u001b[0m \u001b[0;34m+\u001b[0m \u001b[0mcomplexName\u001b[0m \u001b[0;34m+\u001b[0m \u001b[0;34m'in.csv'\u001b[0m\u001b[0;34m,\u001b[0m \u001b[0mX_complex\u001b[0m\u001b[0;34m,\u001b[0m \u001b[0mdelimiter\u001b[0m\u001b[0;34m=\u001b[0m\u001b[0;34m','\u001b[0m\u001b[0;34m)\u001b[0m\u001b[0;34m\u001b[0m\u001b[0m\n\u001b[0m\u001b[1;32m      9\u001b[0m \u001b[0mnp\u001b[0m\u001b[0;34m.\u001b[0m\u001b[0msavetxt\u001b[0m\u001b[0;34m(\u001b[0m\u001b[0mfolder\u001b[0m \u001b[0;34m+\u001b[0m \u001b[0;34m'/'\u001b[0m \u001b[0;34m+\u001b[0m \u001b[0mcomplexName\u001b[0m \u001b[0;34m+\u001b[0m \u001b[0;34m'out.csv'\u001b[0m\u001b[0;34m,\u001b[0m \u001b[0mY_complex\u001b[0m\u001b[0;34m,\u001b[0m \u001b[0mdelimiter\u001b[0m\u001b[0;34m=\u001b[0m\u001b[0;34m','\u001b[0m\u001b[0;34m)\u001b[0m\u001b[0;34m\u001b[0m\u001b[0m\n",
      "\u001b[0;32m~/py3env/lib/python3.6/site-packages/numpy/lib/npyio.py\u001b[0m in \u001b[0;36msavetxt\u001b[0;34m(fname, X, fmt, delimiter, newline, header, footer, comments, encoding)\u001b[0m\n\u001b[1;32m   1305\u001b[0m     \u001b[0;32mif\u001b[0m \u001b[0m_is_string_like\u001b[0m\u001b[0;34m(\u001b[0m\u001b[0mfname\u001b[0m\u001b[0;34m)\u001b[0m\u001b[0;34m:\u001b[0m\u001b[0;34m\u001b[0m\u001b[0m\n\u001b[1;32m   1306\u001b[0m         \u001b[0;31m# datasource doesn't support creating a new file ...\u001b[0m\u001b[0;34m\u001b[0m\u001b[0;34m\u001b[0m\u001b[0m\n\u001b[0;32m-> 1307\u001b[0;31m         \u001b[0mopen\u001b[0m\u001b[0;34m(\u001b[0m\u001b[0mfname\u001b[0m\u001b[0;34m,\u001b[0m \u001b[0;34m'wt'\u001b[0m\u001b[0;34m)\u001b[0m\u001b[0;34m.\u001b[0m\u001b[0mclose\u001b[0m\u001b[0;34m(\u001b[0m\u001b[0;34m)\u001b[0m\u001b[0;34m\u001b[0m\u001b[0m\n\u001b[0m\u001b[1;32m   1308\u001b[0m         \u001b[0mfh\u001b[0m \u001b[0;34m=\u001b[0m \u001b[0mnp\u001b[0m\u001b[0;34m.\u001b[0m\u001b[0mlib\u001b[0m\u001b[0;34m.\u001b[0m\u001b[0m_datasource\u001b[0m\u001b[0;34m.\u001b[0m\u001b[0mopen\u001b[0m\u001b[0;34m(\u001b[0m\u001b[0mfname\u001b[0m\u001b[0;34m,\u001b[0m \u001b[0;34m'wt'\u001b[0m\u001b[0;34m,\u001b[0m \u001b[0mencoding\u001b[0m\u001b[0;34m=\u001b[0m\u001b[0mencoding\u001b[0m\u001b[0;34m)\u001b[0m\u001b[0;34m\u001b[0m\u001b[0m\n\u001b[1;32m   1309\u001b[0m         \u001b[0mown_fh\u001b[0m \u001b[0;34m=\u001b[0m \u001b[0;32mTrue\u001b[0m\u001b[0;34m\u001b[0m\u001b[0m\n",
      "\u001b[0;31mFileNotFoundError\u001b[0m: [Errno 2] No such file or directory: 'zero_data/data/scatter01_T10_all_in.csv'"
     ]
    }
   ],
   "source": [
    "complexName = fileName[15:]\n",
    "\n",
    "folder = 'zero_data'\n",
    "\n",
    "if not os.path.exists(folder):\n",
    "    os.makedirs(folder)\n",
    "\n",
    "np.savetxt(folder + '/' + complexName + 'in.csv', X_complex, delimiter=',')\n",
    "np.savetxt(folder + '/' + complexName + 'out.csv', Y_complex, delimiter=',')"
   ]
  },
  {
   "cell_type": "markdown",
   "metadata": {},
   "source": [
    "## Create Non-Zeroed Complex Components\n",
    "\n",
    "Now, the imagianry components are negatively-scaled versions of the real components"
   ]
  },
  {
   "cell_type": "code",
   "execution_count": null,
   "metadata": {},
   "outputs": [],
   "source": [
    "X_complex = []\n",
    "Y_complex = []\n",
    "\n",
    "for x,y in zip(X,Y):\n",
    "    \n",
    "    X_complex.append(x)\n",
    "    X_complex.append([-x[i]*0.5 for i in range(len(x))])\n",
    "    \n",
    "    Y_complex.append(y)\n",
    "    Y_complex.append([-x[i]*0.5 for i in range(len(x))])\n",
    "\n",
    "X_complex = np.asarray(X_complex)\n",
    "Y_complex = np.asarray(Y_complex)"
   ]
  },
  {
   "cell_type": "markdown",
   "metadata": {},
   "source": [
    "### Save Non-Zero Complex Data"
   ]
  },
  {
   "cell_type": "code",
   "execution_count": null,
   "metadata": {},
   "outputs": [],
   "source": [
    "folder = 'non_zero_data'\n",
    "\n",
    "if not os.path.exists(folder):\n",
    "    os.makedirs(folder)\n",
    "\n",
    "np.savetxt(folder + '/' + complexName + 'in.csv', X_complex, delimiter=',')\n",
    "np.savetxt(folder + '/' + complexName + 'out.csv', Y_complex, delimiter=',')"
   ]
  }
 ],
 "metadata": {
  "kernelspec": {
   "display_name": "Python 3",
   "language": "python",
   "name": "python3"
  },
  "language_info": {
   "codemirror_mode": {
    "name": "ipython",
    "version": 3
   },
   "file_extension": ".py",
   "mimetype": "text/x-python",
   "name": "python",
   "nbconvert_exporter": "python",
   "pygments_lexer": "ipython3",
   "version": "3.6.4"
  }
 },
 "nbformat": 4,
 "nbformat_minor": 2
}
